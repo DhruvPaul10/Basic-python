{
 "cells": [
  {
   "cell_type": "markdown",
   "metadata": {},
   "source": [
    "## Python Basic Programming Exercises"
   ]
  },
  {
   "cell_type": "raw",
   "metadata": {},
   "source": [
    "Q1: What is the output of following expression\n",
    "    5 + 4 * 9 % (3 + 1) / 6 - 1"
   ]
  },
  {
   "cell_type": "code",
   "execution_count": 107,
   "metadata": {},
   "outputs": [
    {
     "data": {
      "text/plain": [
       "4"
      ]
     },
     "execution_count": 107,
     "metadata": {},
     "output_type": "execute_result"
    }
   ],
   "source": [
    "# Q1\n",
    "5 + 4 * 9 % (3 + 1) / 6 - 1\n",
    "# Python follows PEDMAS for solving and from left to right for same level of operations\n",
    "5 + 4 * 9 % 4 / 6 - 1      #Parenthesis is solved first\n",
    "5 + 36 % 4 / 6 - 1 \n",
    "5 + 0 / 6 - 1              #Multimlication, division, and remainder folows same level so we move from left to right \n",
    "5 + 0 -1                   # Addition and subtraction follows same level so we by first adding 0 and the subtracting 1\n",
    "4"
   ]
  },
  {
   "cell_type": "raw",
   "metadata": {},
   "source": [
    "Q2: Write a program to check if a Number is Odd or Even. Take number as a input from user at runtime."
   ]
  },
  {
   "cell_type": "code",
   "execution_count": 4,
   "metadata": {},
   "outputs": [
    {
     "name": "stdout",
     "output_type": "stream",
     "text": [
      "Enter the number to check whether it is odd or even 10\n",
      "The number is even\n"
     ]
    }
   ],
   "source": [
    "# Q2\n",
    "number = int(input('Enter the number to check whether it is odd or even '))\n",
    "if (number%2 == 0):\n",
    "    print('The number is even')\n",
    "else:\n",
    "    print('Number is odd')"
   ]
  },
  {
   "cell_type": "raw",
   "metadata": {},
   "source": [
    "Q3: Write a program to display the multiplication table by taking a number as input. \n",
    "    [Hint : Use print statement inside of a loop]"
   ]
  },
  {
   "cell_type": "code",
   "execution_count": 7,
   "metadata": {},
   "outputs": [
    {
     "name": "stdout",
     "output_type": "stream",
     "text": [
      "Enter the number for table 5\n",
      "5  *   1  =  5\n",
      "5  *   2  =  10\n",
      "5  *   3  =  15\n",
      "5  *   4  =  20\n",
      "5  *   5  =  25\n",
      "5  *   6  =  30\n",
      "5  *   7  =  35\n",
      "5  *   8  =  40\n",
      "5  *   9  =  45\n",
      "5  *   10  =  50\n"
     ]
    }
   ],
   "source": [
    "# Q3\n",
    "number = int(input('Enter the number for table '))\n",
    "t = 0\n",
    "t = int(t)\n",
    "for i in range (1,11):\n",
    "        t = i * number\n",
    "        print(number,' *  ', i,' = ', t)"
   ]
  },
  {
   "cell_type": "raw",
   "metadata": {},
   "source": [
    "Q4: Write a program which will find all numbers between 2000 and 3200 which are divisible by 7 \n",
    "    but are not a multiple of 5.\n",
    " \n",
    "Note: The numbers obtained should be printed in a comma-separated sequence on a single line."
   ]
  },
  {
   "cell_type": "code",
   "execution_count": 19,
   "metadata": {},
   "outputs": [
    {
     "name": "stdout",
     "output_type": "stream",
     "text": [
      "2002, 2009, 2016, 2023, 2037, 2044, 2051, 2058, 2072, 2079, 2086, 2093, 2107, 2114, 2121, 2128, 2142, 2149, 2156, 2163, 2177, 2184, 2191, 2198, 2212, 2219, 2226, 2233, 2247, 2254, 2261, 2268, 2282, 2289, 2296, 2303, 2317, 2324, 2331, 2338, 2352, 2359, 2366, 2373, 2387, 2394, 2401, 2408, 2422, 2429, 2436, 2443, 2457, 2464, 2471, 2478, 2492, 2499, 2506, 2513, 2527, 2534, 2541, 2548, 2562, 2569, 2576, 2583, 2597, 2604, 2611, 2618, 2632, 2639, 2646, 2653, 2667, 2674, 2681, 2688, 2702, 2709, 2716, 2723, 2737, 2744, 2751, 2758, 2772, 2779, 2786, 2793, 2807, 2814, 2821, 2828, 2842, 2849, 2856, 2863, 2877, 2884, 2891, 2898, 2912, 2919, 2926, 2933, 2947, 2954, 2961, 2968, 2982, 2989, 2996, 3003, 3017, 3024, 3031, 3038, 3052, 3059, 3066, 3073, 3087, 3094, 3101, 3108, 3122, 3129, 3136, 3143, 3157, 3164, 3171, 3178, 3192, 3199\n"
     ]
    }
   ],
   "source": [
    "# Q4\n",
    "lis = []\n",
    "# list is created to avoid the last ,\n",
    "for i in range (2000, 3201):\n",
    "    if (i % 7 == 0) and (i % 5 != 0):\n",
    "        lis.append(str(i))\n",
    "print(', '.join(lis))"
   ]
  },
  {
   "cell_type": "raw",
   "metadata": {},
   "source": [
    "Q5: Count the elements of each datatype inside the list and display in output\n",
    "    [2, 3, 'Py', '10', 1, 'SQL', 5.5, True, 3, 'John', None, 7]    "
   ]
  },
  {
   "cell_type": "code",
   "execution_count": 21,
   "metadata": {},
   "outputs": [
    {
     "name": "stdout",
     "output_type": "stream",
     "text": [
      "No. of string values =  4\n",
      "No. of integer values =  5\n",
      "No. of float values =  1\n",
      "No. of boolean values =  2\n"
     ]
    }
   ],
   "source": [
    "# Q5\n",
    "list_1 = [2, 3, 'Py', '10', 1, 'SQL', 5.5, True, 3, 'John', None, 7]\n",
    "string, integer, float_value, boolean = 0, 0, 0, 0\n",
    "for i in list_1:\n",
    "    if type(i) == str:\n",
    "        string += 1\n",
    "    elif type(i) == int:\n",
    "        integer += 1\n",
    "    elif type(i) == float:\n",
    "        float_value += 1\n",
    "    else:\n",
    "        boolean += 1\n",
    "print('No. of string values = ', string)\n",
    "print('No. of integer values = ', integer)\n",
    "print('No. of float values = ', float_value)\n",
    "print('No. of boolean values = ', boolean)"
   ]
  },
  {
   "cell_type": "raw",
   "metadata": {},
   "source": [
    "Q6: Add all values from the list with numeric datatypes \n",
    "    [2, 3, 'Py', '10', 1, 'SQL', 5.5, True, 3, 'John', None, 7] "
   ]
  },
  {
   "cell_type": "code",
   "execution_count": 25,
   "metadata": {},
   "outputs": [
    {
     "data": {
      "text/plain": [
       "21.5"
      ]
     },
     "execution_count": 25,
     "metadata": {},
     "output_type": "execute_result"
    }
   ],
   "source": [
    "# Q6\n",
    "list_1 =  [2, 3, 'Py', '10', 1, 'SQL', 5.5, True, 3, 'John', None, 7] \n",
    "list_2 = []\n",
    "for i in list_1:\n",
    "    if (type(i) == int) or (type(i) == float):\n",
    "        list_2.append(i)\n",
    "sum(list_2)"
   ]
  },
  {
   "cell_type": "raw",
   "metadata": {},
   "source": [
    "Q7: Concat all str datatypes with hyphen as a delimiter\n",
    "    [2, 3, 'Py', '10', 1, 'SQL', 5.5, True, 3, 'John', None, 7] "
   ]
  },
  {
   "cell_type": "code",
   "execution_count": 30,
   "metadata": {},
   "outputs": [
    {
     "name": "stdout",
     "output_type": "stream",
     "text": [
      "Py-10-SQL-John\n"
     ]
    }
   ],
   "source": [
    "# Q7\n",
    "list_1 = [2, 3, 'Py', '10', 1, 'SQL', 5.5, True, 3, 'John', None, 7]  \n",
    "list_2 = []\n",
    "for i in list_1:\n",
    "    if type(i) == str:\n",
    "        list_2.append(i)\n",
    "print(\"-\".join(list_2))"
   ]
  },
  {
   "cell_type": "raw",
   "metadata": {},
   "source": [
    "Q8: Write a UDF that takes list as input and returns sum of all numbers \n",
    "    (exclude bool) and count of all str \n",
    "    [2, 3, 'Py', '10', 1, 'SQL', 5.5, True, 3, 'John', None, 7] \n",
    "    \n",
    "Hint:\n",
    "-----\n",
    "def my_func:\n",
    "    # your code\n",
    "        \n",
    "my_func(l1)\n",
    "# output --> {'Sum': xxx, 'Count_of_Strs': xxx}"
   ]
  },
  {
   "cell_type": "code",
   "execution_count": 24,
   "metadata": {},
   "outputs": [
    {
     "data": {
      "text/plain": [
       "{'Sum': 21.5, 'Count_of_Strs': 4}"
      ]
     },
     "execution_count": 24,
     "metadata": {},
     "output_type": "execute_result"
    }
   ],
   "source": [
    "# Q8\n",
    "enter_list = [2, 3, 'Py', '10', 1, 'SQL', 5.5, True, 3, 'John', None, 7] \n",
    "def my_function(x):\n",
    "    integer, boolean, float_value, string = [], [], [], []\n",
    "    for i in x:\n",
    "        if type(i) == int:\n",
    "            integer.append(i)\n",
    "        elif type(i) == float:\n",
    "            float_value.append(i)\n",
    "        elif type(i) == str:\n",
    "            string.append(i)\n",
    "        else:\n",
    "            boolean.append(i)\n",
    "\n",
    "    a = sum(integer) + sum(float_value)    \n",
    "    b = len(string)\n",
    "    return {'Sum': a, 'Count_of_Strs': b}\n",
    "\n",
    "my_function(enter_list)\n",
    "        "
   ]
  },
  {
   "cell_type": "raw",
   "metadata": {},
   "source": [
    "Q9: Get only odd numbers from the following list and store the numbers in new list\n",
    "    li = [5, 7, 22, 97, 54, 62, 77, 23, 73, 61]\n",
    "\n",
    "    i. Use loops to get the answer\n",
    "   ii. Use list comprehensions\n",
    "  iii. Use lambda function with filter"
   ]
  },
  {
   "cell_type": "code",
   "execution_count": 1,
   "metadata": {},
   "outputs": [
    {
     "name": "stdout",
     "output_type": "stream",
     "text": [
      "[5, 7, 97, 77, 23, 73, 61]\n",
      "[5, 7, 97, 77, 23, 73, 61]\n"
     ]
    },
    {
     "data": {
      "text/plain": [
       "[5, 7, 97, 77, 23, 73, 61]"
      ]
     },
     "execution_count": 1,
     "metadata": {},
     "output_type": "execute_result"
    }
   ],
   "source": [
    "# Q9\n",
    "# 1. Using loop\n",
    "li = [5, 7, 22, 97, 54, 62, 77, 23, 73, 61]\n",
    "new_list1 = []\n",
    "for i in li:\n",
    "    if (i%2 != 0) & (type(i) == int):\n",
    "        new_list1.append(i)\n",
    "print(new_list1)\n",
    "\n",
    "# 2. using list comprehensionp()\n",
    "new_list2 = [i for i in li if (i%2 != 0)]\n",
    "print(new_list2)\n",
    "\n",
    "# 3.Lambda function\n",
    "list(filter(lambda x: x%2 != 0 , li))"
   ]
  },
  {
   "cell_type": "raw",
   "metadata": {},
   "source": [
    "Q10: Write a UDF to return the descriptives [sum, count, min, mean, max] for a list of n number of input \n",
    "    numbers."
   ]
  },
  {
   "cell_type": "code",
   "execution_count": 2,
   "metadata": {},
   "outputs": [
    {
     "data": {
      "text/plain": [
       "{'Sum ': 6, 'Count ': 3, 'Min ': 1, 'Mean ': 2.0, 'Max ': 3}"
      ]
     },
     "execution_count": 2,
     "metadata": {},
     "output_type": "execute_result"
    }
   ],
   "source": [
    "# Q10\n",
    "def descriptives(*args):\n",
    "    a = 0\n",
    "    for i in args:\n",
    "        a = a + i\n",
    "    b = len(args)\n",
    "    c = min(args)\n",
    "    d = a/b\n",
    "    e = max(args)\n",
    "    return {'Sum ': a,'Count ': b,'Min ': c,'Mean ': d,'Max ': e}\n",
    "descriptives(1, 2, 3)"
   ]
  },
  {
   "cell_type": "raw",
   "metadata": {},
   "source": [
    "Q11: Write an udf to calculate the area of different shapes\n",
    "\n",
    "Take shape and dimensions as arguments to udf as follows : \n",
    "\n",
    "1. square which has side\n",
    "2. rectangle which has length and width\n",
    "3. circle which has radius\n",
    "\n",
    "The shape should be a positional argument and it's dimensions are taken as kwargs\n",
    "\n",
    "Perform proper validation for the user inputs and then calculate area.\n",
    "\n",
    "E.g. if shape is square, ensure kwargs has \"side\" and if so, then you may return the area, else display appropriate error message like \"Please enter 'side' for a square\""
   ]
  },
  {
   "cell_type": "code",
   "execution_count": 31,
   "metadata": {},
   "outputs": [
    {
     "name": "stdout",
     "output_type": "stream",
     "text": [
      "{'radius': 10}\n"
     ]
    },
    {
     "data": {
      "text/plain": [
       "31.415000000000003"
      ]
     },
     "execution_count": 31,
     "metadata": {},
     "output_type": "execute_result"
    }
   ],
   "source": [
    "# Q11\n",
    "      \n",
    "def area(shape,**kwargs):\n",
    "    if shape == 'square':\n",
    "        print(kwargs)\n",
    "        if 'side' in kwargs.keys():\n",
    "            return kwargs['side']**2\n",
    "        else:\n",
    "            print(\"Please enter 'side' for a square\")\n",
    "    elif shape == 'rectangle':\n",
    "        print(kwargs)\n",
    "        if 'length' in kwargs.keys() and 'breadth' in kwargs.keys():\n",
    "            return kwargs['length']*kwargs['breadth']\n",
    "        else:\n",
    "            print(\"Please enter 'length' and 'breadth' for a rectangle\")\n",
    "    elif shape == 'circle':\n",
    "        print(kwargs)\n",
    "        if 'radius' in kwargs.keys():\n",
    "            return kwargs['radius']*3.1415\n",
    "        else:\n",
    "            print(\"Please enter 'radius' for a rectangle\")\n",
    "    else:\n",
    "            print(\"Supported shapes are square, rectangle or circle\") \n",
    "            \n",
    "area(shape = 'circle', radius = 10)"
   ]
  },
  {
   "cell_type": "raw",
   "metadata": {},
   "source": [
    "Q12: Write a UDF to reconcile the values within two lists.\n",
    "    l1 = ['January', 'February', 'March', 'May', 'June', 'September', 'December']\n",
    "    l2 = ['January', 'February', 'April', 'June', 'October', 'December']\n",
    "\n",
    "Hint:\n",
    "-----\n",
    "def func(l1, l2):\n",
    "    your code here...\n",
    "    \n",
    "Output:\n",
    "{'Matched': ['January', 'February', 'June', 'December'],\n",
    "    'Only in l1': ['March', 'May', 'September'],\n",
    "        'Only in l2': ['April', 'October']}"
   ]
  },
  {
   "cell_type": "code",
   "execution_count": 36,
   "metadata": {},
   "outputs": [
    {
     "data": {
      "text/plain": [
       "{'Matched': ['December', 'June', 'January', 'February'],\n",
       " 'only in l1': ['May', 'September', 'March'],\n",
       " 'only in l2': ['October', 'April']}"
      ]
     },
     "execution_count": 36,
     "metadata": {},
     "output_type": "execute_result"
    }
   ],
   "source": [
    "# Q12\n",
    "l1 = ['January', 'February', 'March', 'May', 'June', 'September', 'December']\n",
    "l2 = ['January', 'February', 'April', 'June', 'October', 'December']\n",
    "d1 = {}\n",
    "def sets(a, b):\n",
    "    a = set(a)\n",
    "    b = set(b)\n",
    "    d1['Matched'] = list(a.intersection(b))\n",
    "    d1['only in l1'] = list(a - b)\n",
    "    d1['only in l2'] = list(b - a)\n",
    "    return d1\n",
    "sets(l1, l2)"
   ]
  },
  {
   "cell_type": "raw",
   "metadata": {
    "collapsed": true
   },
   "source": [
    "Q13: write a UDF to check if a number is prime or not."
   ]
  },
  {
   "cell_type": "code",
   "execution_count": 23,
   "metadata": {},
   "outputs": [
    {
     "name": "stdout",
     "output_type": "stream",
     "text": [
      "Enter a number : 100001\n"
     ]
    },
    {
     "data": {
      "text/plain": [
       "False"
      ]
     },
     "execution_count": 23,
     "metadata": {},
     "output_type": "execute_result"
    }
   ],
   "source": [
    "# Q13\n",
    "number = int(input('Enter a number : '))\n",
    "def prime_check(x):\n",
    "    if (x == 1):\n",
    "        return False\n",
    "    elif (x == 2):\n",
    "        return True\n",
    "    else:\n",
    "        for i in range(2,int(x**0.5) + 1):\n",
    "            if(x%i == 0):\n",
    "                return False\n",
    "        return True             \n",
    "prime_check(number)"
   ]
  },
  {
   "cell_type": "raw",
   "metadata": {
    "collapsed": true
   },
   "source": [
    "Q14. Write a program which can compute the factorial of a given numbers. \n",
    "#   The results should be printed in a comma-separated sequence on a single line. \n",
    "# input() function can be used for getting user(console) input\n",
    "\n",
    "\n",
    "#Suppose the input is supplied to the program:  8  \n",
    "#Then, the output should be:  40320 \n",
    "#Hints: In case of input data being supplied to the question, it should be assumed to be a console input. \n"
   ]
  },
  {
   "cell_type": "code",
   "execution_count": 37,
   "metadata": {},
   "outputs": [
    {
     "name": "stdout",
     "output_type": "stream",
     "text": [
      "Enter the number to find the factorial5\n",
      "120\n"
     ]
    }
   ],
   "source": [
    "# Q14\n",
    "number = int(input('Enter the number to find the factorial'))\n",
    "t = 1\n",
    "for i in range (1, number + 1):\n",
    "    t = t * i\n",
    "print(t)"
   ]
  },
  {
   "cell_type": "raw",
   "metadata": {
    "collapsed": true
   },
   "source": [
    "Q15. With a given integral number n, write a program to generate a dictionary that contains (i, i*i) such that is an integral number between 1 and n (both included). and then the program should print the dictionary.\n",
    "\n",
    "#Suppose the following input is supplied to the program: 8\n",
    "#Then, the output should be: {1: 1, 2: 4, 3: 9, 4: 16, 5: 25, 6: 36, 7: 49, 8: 64}\n",
    "#Hints: In case of input data being supplied to the question, it should be assumed to be a console input. Consider using dict()\n",
    "\n"
   ]
  },
  {
   "cell_type": "code",
   "execution_count": 40,
   "metadata": {},
   "outputs": [
    {
     "name": "stdout",
     "output_type": "stream",
     "text": [
      "Enter number for which you want the disctionary of squares5\n",
      "{1: 1, 2: 4, 3: 9, 4: 16, 5: 25}\n"
     ]
    }
   ],
   "source": [
    "# Q15\n",
    "number = int(input('Enter number for which you want the disctionary of squares'))\n",
    "dict_1 = {}\n",
    "for i in range (1, number+1):\n",
    "    x = i**2\n",
    "    dict_1[i] = x\n",
    "print(dict_1)"
   ]
  },
  {
   "cell_type": "raw",
   "metadata": {
    "collapsed": true
   },
   "source": [
    "Q16. Write a program which accepts a sequence of comma-separated numbers from console and generate a list and a tuple which contains every number.\n",
    "#Suppose the following input is supplied to the program: 34,67,55,33,12,98\n",
    "    #Then, the output should be: ['34', '67', '55', '33', '12', '98'] ('34', '67', '55', '33', '12', '98')\n",
    "\n",
    "#Hints: In case of input data being supplied to the question, it should be assumed to be a console input. you may use tuple() method to convert list to tuple\n"
   ]
  },
  {
   "cell_type": "code",
   "execution_count": 63,
   "metadata": {},
   "outputs": [
    {
     "name": "stdout",
     "output_type": "stream",
     "text": [
      "Enter value in comma separated form adx,s,scf,\n",
      "['adx', 's', 'scf', '']\n",
      "('adx', 's', 'scf', '')\n"
     ]
    }
   ],
   "source": [
    "# Q16\n",
    "string = str(input('Enter value in comma separated form '))\n",
    "print(string.split(sep = ','))\n",
    "print(tuple(string.split(sep = ',')))"
   ]
  },
  {
   "cell_type": "raw",
   "metadata": {
    "collapsed": true
   },
   "source": [
    "Q17. Write a program that accepts a comma separated sequence of words as input and \n",
    "# prints the words in a comma-separated sequence after sorting them alphabetically.\n",
    "\n",
    "# Suppose the following input is supplied to the program: without,hello,bag,world\n",
    "# Then, the output should be: bag,hello,without,world\n",
    "\n",
    "#Hints: In case of input data being supplied to the question, it should be assumed to be a console input.\n"
   ]
  },
  {
   "cell_type": "code",
   "execution_count": 62,
   "metadata": {},
   "outputs": [
    {
     "name": "stdout",
     "output_type": "stream",
     "text": [
      "Enter the words in comma separated form. bag,hello,without,world\n",
      "['bag', 'hello', 'without', 'world']\n"
     ]
    }
   ],
   "source": [
    "# Q17\n",
    "text = input('Enter the words in comma separated form. ')\n",
    "text = text.split(',')\n",
    "text.sort()\n",
    "print(text)"
   ]
  },
  {
   "cell_type": "raw",
   "metadata": {
    "collapsed": true
   },
   "source": [
    "Q18. Write a program that accepts a sequence of whitespace separated words \n",
    "# as input and prints the words after removing all duplicate words and sorting them alphanumerically.\n",
    "# Suppose the following input is supplied to the program: hello world and practice makes perfect and hello world again\n",
    "# Then, the output should be: again and hello makes perfect practice world\n",
    "\n",
    "#Hints: In case of input data being supplied to the question, it should be assumed to be a console input.\n",
    "#We use set container to remove duplicated data automatically and then use sorted() to sort the data.\n"
   ]
  },
  {
   "cell_type": "code",
   "execution_count": 93,
   "metadata": {},
   "outputs": [
    {
     "name": "stdout",
     "output_type": "stream",
     "text": [
      "Enter the white separated words. hello world and practice makes perfect and hello world again\n"
     ]
    },
    {
     "data": {
      "text/plain": [
       "'again and hello makes perfect practice world'"
      ]
     },
     "execution_count": 93,
     "metadata": {},
     "output_type": "execute_result"
    }
   ],
   "source": [
    "# Q18\n",
    "text = str(input('Enter the white separated words. '))\n",
    "text = list(set(text.split(sep = \" \")))\n",
    "text.sort()\n",
    "text_sort = ' '\n",
    "text_sort.join(text)"
   ]
  },
  {
   "cell_type": "raw",
   "metadata": {
    "collapsed": true
   },
   "source": [
    "Q19. Write a program that accepts a sentence and calculate the number of upper case \n",
    "# letters and lower case letters.\n",
    "#Suppose the following input is supplied to the program: Hello world!\n",
    "#Then, the output should be: UPPER CASE 1 LOWER CASE 9\n",
    "\n",
    "#Hints: In case of input data being supplied to the question, it should be assumed to be a console input.\n"
   ]
  },
  {
   "cell_type": "code",
   "execution_count": 105,
   "metadata": {},
   "outputs": [
    {
     "name": "stdout",
     "output_type": "stream",
     "text": [
      "Enter words Hello world!\n",
      "The number of lowercase characters is: 9\n",
      "The number of uppercase characters is: 1\n"
     ]
    }
   ],
   "source": [
    "# Q19\n",
    "string = input('Enter words ')\n",
    "lower = 0\n",
    "upper = 0\n",
    "other = 0\n",
    "for i in string:\n",
    "    if (i.islower() == True) & (i != ' '):\n",
    "        lower += 1\n",
    "    elif (i.isupper() == True) & (i != ' '):\n",
    "        upper += 1\n",
    "    else:\n",
    "        other += 1\n",
    "print(\"The number of lowercase characters is:\",lower)\n",
    "print(\"The number of uppercase characters is:\",upper)"
   ]
  },
  {
   "cell_type": "raw",
   "metadata": {
    "collapsed": true
   },
   "source": [
    "Q20. Write a program that takes a string and returns reversed string. i.e. if input is \"abcd123\" output should be \"321dcba\""
   ]
  },
  {
   "cell_type": "code",
   "execution_count": 44,
   "metadata": {},
   "outputs": [
    {
     "name": "stdout",
     "output_type": "stream",
     "text": [
      "Enter the sring hunjn\n",
      "njnuh\n"
     ]
    }
   ],
   "source": [
    "# Q20\n",
    "val = str(input('Enter the sring '))\n",
    "print(val[::-1])"
   ]
  },
  {
   "cell_type": "code",
   "execution_count": null,
   "metadata": {},
   "outputs": [],
   "source": [
    "''' ...............................End...................................... '''"
   ]
  }
 ],
 "metadata": {
  "kernelspec": {
   "display_name": "Python 3 (ipykernel)",
   "language": "python",
   "name": "python3"
  },
  "language_info": {
   "codemirror_mode": {
    "name": "ipython",
    "version": 3
   },
   "file_extension": ".py",
   "mimetype": "text/x-python",
   "name": "python",
   "nbconvert_exporter": "python",
   "pygments_lexer": "ipython3",
   "version": "3.11.4"
  },
  "varInspector": {
   "cols": {
    "lenName": 16,
    "lenType": 16,
    "lenVar": 40
   },
   "kernels_config": {
    "python": {
     "delete_cmd_postfix": "",
     "delete_cmd_prefix": "del ",
     "library": "var_list.py",
     "varRefreshCmd": "print(var_dic_list())"
    },
    "r": {
     "delete_cmd_postfix": ") ",
     "delete_cmd_prefix": "rm(",
     "library": "var_list.r",
     "varRefreshCmd": "cat(var_dic_list()) "
    }
   },
   "types_to_exclude": [
    "module",
    "function",
    "builtin_function_or_method",
    "instance",
    "_Feature"
   ],
   "window_display": false
  }
 },
 "nbformat": 4,
 "nbformat_minor": 2
}
